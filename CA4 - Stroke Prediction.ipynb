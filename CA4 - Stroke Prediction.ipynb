{
 "cells": [
  {
   "cell_type": "markdown",
   "metadata": {
    "id": "Rmb-l4C1TRJ4"
   },
   "source": [
    "### **A Ch Rohit**\n",
    "### **E0320022**\n",
    "### **CSE340 Machine Learning CA4**\n",
    "### **Stroke Prediction**"
   ]
  },
  {
   "cell_type": "code",
   "execution_count": 2,
   "metadata": {
    "id": "R_id6jJ83U96"
   },
   "outputs": [],
   "source": [
    "import pandas as pd\n",
    "import numpy as np\n",
    "import matplotlib.pyplot as plt\n",
    "import seaborn as sns\n",
    "from sklearn.preprocessing import StandardScaler\n",
    "from sklearn.model_selection import train_test_split\n",
    "from sklearn.ensemble import RandomForestClassifier\n",
    "from sklearn.metrics import confusion_matrix, accuracy_score\n",
    "from tensorflow.keras.callbacks import EarlyStopping\n",
    "early_stop = EarlyStopping(monitor='val_loss', patience=10)"
   ]
  },
  {
   "cell_type": "markdown",
   "metadata": {
    "id": "xyjMvYgD-IUV"
   },
   "source": [
    "## **Loading the dataset**"
   ]
  },
  {
   "cell_type": "code",
   "execution_count": 37,
   "metadata": {
    "id": "NrtCWowE3VBL"
   },
   "outputs": [],
   "source": [
    "df = pd.read_csv('stroke.csv')\n",
    "df=df.iloc[:,1:]"
   ]
  },
  {
   "cell_type": "code",
   "execution_count": 38,
   "metadata": {
    "colab": {
     "base_uri": "https://localhost:8080/",
     "height": 270
    },
    "id": "a6i4lvHe3VEC",
    "outputId": "15c84359-36c4-4ed7-9966-4d128bd44009"
   },
   "outputs": [
    {
     "data": {
      "text/html": [
       "<div>\n",
       "<style scoped>\n",
       "    .dataframe tbody tr th:only-of-type {\n",
       "        vertical-align: middle;\n",
       "    }\n",
       "\n",
       "    .dataframe tbody tr th {\n",
       "        vertical-align: top;\n",
       "    }\n",
       "\n",
       "    .dataframe thead th {\n",
       "        text-align: right;\n",
       "    }\n",
       "</style>\n",
       "<table border=\"1\" class=\"dataframe\">\n",
       "  <thead>\n",
       "    <tr style=\"text-align: right;\">\n",
       "      <th></th>\n",
       "      <th>gender</th>\n",
       "      <th>age</th>\n",
       "      <th>hypertension</th>\n",
       "      <th>heart_disease</th>\n",
       "      <th>ever_married</th>\n",
       "      <th>work_type</th>\n",
       "      <th>Residence_type</th>\n",
       "      <th>avg_glucose_level</th>\n",
       "      <th>bmi</th>\n",
       "      <th>smoking_status</th>\n",
       "      <th>stroke</th>\n",
       "    </tr>\n",
       "  </thead>\n",
       "  <tbody>\n",
       "    <tr>\n",
       "      <th>0</th>\n",
       "      <td>Male</td>\n",
       "      <td>67.0</td>\n",
       "      <td>0</td>\n",
       "      <td>1</td>\n",
       "      <td>Yes</td>\n",
       "      <td>Private</td>\n",
       "      <td>Urban</td>\n",
       "      <td>228.69</td>\n",
       "      <td>36.6</td>\n",
       "      <td>formerly smoked</td>\n",
       "      <td>1</td>\n",
       "    </tr>\n",
       "    <tr>\n",
       "      <th>1</th>\n",
       "      <td>Female</td>\n",
       "      <td>61.0</td>\n",
       "      <td>0</td>\n",
       "      <td>0</td>\n",
       "      <td>Yes</td>\n",
       "      <td>Self-employed</td>\n",
       "      <td>Rural</td>\n",
       "      <td>202.21</td>\n",
       "      <td>NaN</td>\n",
       "      <td>never smoked</td>\n",
       "      <td>1</td>\n",
       "    </tr>\n",
       "    <tr>\n",
       "      <th>2</th>\n",
       "      <td>Male</td>\n",
       "      <td>80.0</td>\n",
       "      <td>0</td>\n",
       "      <td>1</td>\n",
       "      <td>Yes</td>\n",
       "      <td>Private</td>\n",
       "      <td>Rural</td>\n",
       "      <td>105.92</td>\n",
       "      <td>32.5</td>\n",
       "      <td>never smoked</td>\n",
       "      <td>1</td>\n",
       "    </tr>\n",
       "    <tr>\n",
       "      <th>3</th>\n",
       "      <td>Female</td>\n",
       "      <td>49.0</td>\n",
       "      <td>0</td>\n",
       "      <td>0</td>\n",
       "      <td>Yes</td>\n",
       "      <td>Private</td>\n",
       "      <td>Urban</td>\n",
       "      <td>171.23</td>\n",
       "      <td>34.4</td>\n",
       "      <td>smokes</td>\n",
       "      <td>1</td>\n",
       "    </tr>\n",
       "    <tr>\n",
       "      <th>4</th>\n",
       "      <td>Female</td>\n",
       "      <td>79.0</td>\n",
       "      <td>1</td>\n",
       "      <td>0</td>\n",
       "      <td>Yes</td>\n",
       "      <td>Self-employed</td>\n",
       "      <td>Rural</td>\n",
       "      <td>174.12</td>\n",
       "      <td>24.0</td>\n",
       "      <td>never smoked</td>\n",
       "      <td>1</td>\n",
       "    </tr>\n",
       "  </tbody>\n",
       "</table>\n",
       "</div>"
      ],
      "text/plain": [
       "   gender   age  hypertension  heart_disease ever_married      work_type  \\\n",
       "0    Male  67.0             0              1          Yes        Private   \n",
       "1  Female  61.0             0              0          Yes  Self-employed   \n",
       "2    Male  80.0             0              1          Yes        Private   \n",
       "3  Female  49.0             0              0          Yes        Private   \n",
       "4  Female  79.0             1              0          Yes  Self-employed   \n",
       "\n",
       "  Residence_type  avg_glucose_level   bmi   smoking_status  stroke  \n",
       "0          Urban             228.69  36.6  formerly smoked       1  \n",
       "1          Rural             202.21   NaN     never smoked       1  \n",
       "2          Rural             105.92  32.5     never smoked       1  \n",
       "3          Urban             171.23  34.4           smokes       1  \n",
       "4          Rural             174.12  24.0     never smoked       1  "
      ]
     },
     "execution_count": 38,
     "metadata": {},
     "output_type": "execute_result"
    }
   ],
   "source": [
    "df.head()"
   ]
  },
  {
   "cell_type": "markdown",
   "metadata": {
    "id": "HwwCdVnS-Mn7"
   },
   "source": [
    "## **Exploratory Data Analysis**"
   ]
  },
  {
   "cell_type": "code",
   "execution_count": 39,
   "metadata": {
    "colab": {
     "base_uri": "https://localhost:8080/"
    },
    "id": "CvvyGgOr3VGp",
    "outputId": "e7c05ae9-2a55-4462-ceb5-8404e0bc892e"
   },
   "outputs": [
    {
     "data": {
      "text/plain": [
       "(5110, 11)"
      ]
     },
     "execution_count": 39,
     "metadata": {},
     "output_type": "execute_result"
    }
   ],
   "source": [
    "df.shape"
   ]
  },
  {
   "cell_type": "code",
   "execution_count": 40,
   "metadata": {
    "colab": {
     "base_uri": "https://localhost:8080/"
    },
    "id": "dw9M38no3tPA",
    "outputId": "c9bda393-6e85-4ef9-8c7c-234b1280944b"
   },
   "outputs": [
    {
     "name": "stdout",
     "output_type": "stream",
     "text": [
      "<class 'pandas.core.frame.DataFrame'>\n",
      "RangeIndex: 5110 entries, 0 to 5109\n",
      "Data columns (total 11 columns):\n",
      " #   Column             Non-Null Count  Dtype  \n",
      "---  ------             --------------  -----  \n",
      " 0   gender             5110 non-null   object \n",
      " 1   age                5110 non-null   float64\n",
      " 2   hypertension       5110 non-null   int64  \n",
      " 3   heart_disease      5110 non-null   int64  \n",
      " 4   ever_married       5110 non-null   object \n",
      " 5   work_type          5110 non-null   object \n",
      " 6   Residence_type     5110 non-null   object \n",
      " 7   avg_glucose_level  5110 non-null   float64\n",
      " 8   bmi                4909 non-null   float64\n",
      " 9   smoking_status     5110 non-null   object \n",
      " 10  stroke             5110 non-null   int64  \n",
      "dtypes: float64(3), int64(3), object(5)\n",
      "memory usage: 439.3+ KB\n"
     ]
    }
   ],
   "source": [
    "df.info()"
   ]
  },
  {
   "cell_type": "code",
   "execution_count": 41,
   "metadata": {
    "colab": {
     "base_uri": "https://localhost:8080/"
    },
    "id": "jRh75Ryl3tRr",
    "outputId": "dcc21e8d-26a6-46a3-feb5-fd490905ad11"
   },
   "outputs": [
    {
     "data": {
      "text/plain": [
       "gender                 0\n",
       "age                    0\n",
       "hypertension           0\n",
       "heart_disease          0\n",
       "ever_married           0\n",
       "work_type              0\n",
       "Residence_type         0\n",
       "avg_glucose_level      0\n",
       "bmi                  201\n",
       "smoking_status         0\n",
       "stroke                 0\n",
       "dtype: int64"
      ]
     },
     "execution_count": 41,
     "metadata": {},
     "output_type": "execute_result"
    }
   ],
   "source": [
    "df.isnull().sum()"
   ]
  },
  {
   "cell_type": "code",
   "execution_count": 42,
   "metadata": {
    "colab": {
     "base_uri": "https://localhost:8080/",
     "height": 300
    },
    "id": "9H1V556Q3tUA",
    "outputId": "cb73f932-f5e3-4ef7-8b25-467c0a19488f"
   },
   "outputs": [
    {
     "data": {
      "text/html": [
       "<div>\n",
       "<style scoped>\n",
       "    .dataframe tbody tr th:only-of-type {\n",
       "        vertical-align: middle;\n",
       "    }\n",
       "\n",
       "    .dataframe tbody tr th {\n",
       "        vertical-align: top;\n",
       "    }\n",
       "\n",
       "    .dataframe thead th {\n",
       "        text-align: right;\n",
       "    }\n",
       "</style>\n",
       "<table border=\"1\" class=\"dataframe\">\n",
       "  <thead>\n",
       "    <tr style=\"text-align: right;\">\n",
       "      <th></th>\n",
       "      <th>age</th>\n",
       "      <th>hypertension</th>\n",
       "      <th>heart_disease</th>\n",
       "      <th>avg_glucose_level</th>\n",
       "      <th>bmi</th>\n",
       "      <th>stroke</th>\n",
       "    </tr>\n",
       "  </thead>\n",
       "  <tbody>\n",
       "    <tr>\n",
       "      <th>count</th>\n",
       "      <td>5110.000000</td>\n",
       "      <td>5110.000000</td>\n",
       "      <td>5110.000000</td>\n",
       "      <td>5110.000000</td>\n",
       "      <td>4909.000000</td>\n",
       "      <td>5110.000000</td>\n",
       "    </tr>\n",
       "    <tr>\n",
       "      <th>mean</th>\n",
       "      <td>43.226614</td>\n",
       "      <td>0.097456</td>\n",
       "      <td>0.054012</td>\n",
       "      <td>106.147677</td>\n",
       "      <td>28.893237</td>\n",
       "      <td>0.048728</td>\n",
       "    </tr>\n",
       "    <tr>\n",
       "      <th>std</th>\n",
       "      <td>22.612647</td>\n",
       "      <td>0.296607</td>\n",
       "      <td>0.226063</td>\n",
       "      <td>45.283560</td>\n",
       "      <td>7.854067</td>\n",
       "      <td>0.215320</td>\n",
       "    </tr>\n",
       "    <tr>\n",
       "      <th>min</th>\n",
       "      <td>0.080000</td>\n",
       "      <td>0.000000</td>\n",
       "      <td>0.000000</td>\n",
       "      <td>55.120000</td>\n",
       "      <td>10.300000</td>\n",
       "      <td>0.000000</td>\n",
       "    </tr>\n",
       "    <tr>\n",
       "      <th>25%</th>\n",
       "      <td>25.000000</td>\n",
       "      <td>0.000000</td>\n",
       "      <td>0.000000</td>\n",
       "      <td>77.245000</td>\n",
       "      <td>23.500000</td>\n",
       "      <td>0.000000</td>\n",
       "    </tr>\n",
       "    <tr>\n",
       "      <th>50%</th>\n",
       "      <td>45.000000</td>\n",
       "      <td>0.000000</td>\n",
       "      <td>0.000000</td>\n",
       "      <td>91.885000</td>\n",
       "      <td>28.100000</td>\n",
       "      <td>0.000000</td>\n",
       "    </tr>\n",
       "    <tr>\n",
       "      <th>75%</th>\n",
       "      <td>61.000000</td>\n",
       "      <td>0.000000</td>\n",
       "      <td>0.000000</td>\n",
       "      <td>114.090000</td>\n",
       "      <td>33.100000</td>\n",
       "      <td>0.000000</td>\n",
       "    </tr>\n",
       "    <tr>\n",
       "      <th>max</th>\n",
       "      <td>82.000000</td>\n",
       "      <td>1.000000</td>\n",
       "      <td>1.000000</td>\n",
       "      <td>271.740000</td>\n",
       "      <td>97.600000</td>\n",
       "      <td>1.000000</td>\n",
       "    </tr>\n",
       "  </tbody>\n",
       "</table>\n",
       "</div>"
      ],
      "text/plain": [
       "               age  hypertension  heart_disease  avg_glucose_level  \\\n",
       "count  5110.000000   5110.000000    5110.000000        5110.000000   \n",
       "mean     43.226614      0.097456       0.054012         106.147677   \n",
       "std      22.612647      0.296607       0.226063          45.283560   \n",
       "min       0.080000      0.000000       0.000000          55.120000   \n",
       "25%      25.000000      0.000000       0.000000          77.245000   \n",
       "50%      45.000000      0.000000       0.000000          91.885000   \n",
       "75%      61.000000      0.000000       0.000000         114.090000   \n",
       "max      82.000000      1.000000       1.000000         271.740000   \n",
       "\n",
       "               bmi       stroke  \n",
       "count  4909.000000  5110.000000  \n",
       "mean     28.893237     0.048728  \n",
       "std       7.854067     0.215320  \n",
       "min      10.300000     0.000000  \n",
       "25%      23.500000     0.000000  \n",
       "50%      28.100000     0.000000  \n",
       "75%      33.100000     0.000000  \n",
       "max      97.600000     1.000000  "
      ]
     },
     "execution_count": 42,
     "metadata": {},
     "output_type": "execute_result"
    }
   ],
   "source": [
    "df.describe()"
   ]
  },
  {
   "cell_type": "code",
   "execution_count": 43,
   "metadata": {
    "id": "Rqf9Lmwt3tYv"
   },
   "outputs": [],
   "source": [
    "df = df.fillna(method='ffill')\n",
    "from sklearn.preprocessing import LabelEncoder\n",
    "columns=[\"gender\",\"ever_married\",\"work_type\",\"Residence_type\",\"smoking_status\"]\n",
    "le= LabelEncoder()\n",
    "for col in df.columns:\n",
    "    if col in columns:\n",
    "        df[col]=le.fit_transform(df[col])\n",
    "x=df.drop('stroke',axis=1)\n",
    "y=df['stroke']"
   ]
  },
  {
   "cell_type": "markdown",
   "metadata": {
    "id": "G5jSvgB2C8pL"
   },
   "source": [
    "## **Correlation plot** "
   ]
  },
  {
   "cell_type": "code",
   "execution_count": 44,
   "metadata": {
    "colab": {
     "base_uri": "https://localhost:8080/",
     "height": 608
    },
    "id": "PJ7cid7z_KG2",
    "outputId": "c4b567ae-1fcb-42f6-b0d8-ba67fa9485da"
   },
   "outputs": [
    {
     "data": {
      "text/plain": [
       "<AxesSubplot:>"
      ]
     },
     "execution_count": 44,
     "metadata": {},
     "output_type": "execute_result"
    },
    {
     "data": {
      "image/png": "[encoded data removed]",
      "text/plain": [
       "<Figure size 1080x576 with 2 Axes>"
      ]
     },
     "metadata": {
      "needs_background": "light"
     },
     "output_type": "display_data"
    }
   ],
   "source": [
    "corr = df.corr()\n",
    "plt.figure(figsize=(15,8))\n",
    "mask = np.triu(np.ones_like(corr, dtype=bool))\n",
    "sns.heatmap(corr,mask=mask,cmap='BrBG',annot=True,linewidth=.5,square=False)"
   ]
  },
  {
   "cell_type": "markdown",
   "metadata": {
    "id": "gEz-_UC9DIoU"
   },
   "source": [
    "## **Correlation of all columns with respect to class**"
   ]
  },
  {
   "cell_type": "code",
   "execution_count": 45,
   "metadata": {
    "colab": {
     "base_uri": "https://localhost:8080/",
     "height": 609
    },
    "id": "DZvTY6cvDUkr",
    "outputId": "ce9dd433-0fce-4e47-dd7b-3353f423590c"
   },
   "outputs": [
    {
     "data": {
      "text/plain": [
       "<AxesSubplot:>"
      ]
     },
     "execution_count": 45,
     "metadata": {},
     "output_type": "execute_result"
    },
    {
     "data": {
      "image/png": "[encoded data removed]",
      "text/plain": [
       "<Figure size 1080x576 with 2 Axes>"
      ]
     },
     "metadata": {
      "needs_background": "light"
     },
     "output_type": "display_data"
    }
   ],
   "source": [
    "plt.figure(figsize=(15,8))\n",
    "\n",
    "sns.heatmap(df.corr()[['stroke']].sort_values(by='stroke', ascending=False),cmap='BrBG', vmin=-1, vmax= 1 , center=0, annot=True,linewidth=.5,square=False)"
   ]
  },
  {
   "cell_type": "markdown",
   "metadata": {
    "id": "_C8NNLp4AI16"
   },
   "source": [
    "## **Train Test Split**\n",
    "\n"
   ]
  },
  {
   "cell_type": "code",
   "execution_count": 46,
   "metadata": {
    "id": "jzVR6bXe_KEe"
   },
   "outputs": [],
   "source": [
    "X_train, X_test, y_train, y_test = train_test_split(x, y, test_size=0.20, random_state=42, stratify=y)"
   ]
  },
  {
   "cell_type": "code",
   "execution_count": 47,
   "metadata": {
    "id": "OiFCPNYfyD8I"
   },
   "outputs": [],
   "source": [
    "from sklearn.decomposition import PCA\n",
    "\n",
    "pca = PCA()\n",
    "x_train = pca.fit_transform(X_train)\n",
    "x_test = pca.transform(X_test)"
   ]
  },
  {
   "cell_type": "code",
   "execution_count": 48,
   "metadata": {
    "colab": {
     "base_uri": "https://localhost:8080/"
    },
    "id": "yE7eICtqyLvY",
    "outputId": "6876a0d0-5305-45cc-b5ff-344a75deeccd"
   },
   "outputs": [
    {
     "data": {
      "text/plain": [
       "array([7.94969336e-01, 1.83062520e-01, 2.09152286e-02, 4.72189324e-04,\n",
       "       3.02612027e-04, 9.52872077e-05, 9.17105617e-05, 4.36928891e-05,\n",
       "       3.00907849e-05, 1.73327338e-05])"
      ]
     },
     "execution_count": 48,
     "metadata": {},
     "output_type": "execute_result"
    }
   ],
   "source": [
    "explained_variance = pca.explained_variance_ratio_\n",
    "explained_variance"
   ]
  },
  {
   "cell_type": "markdown",
   "metadata": {
    "id": "5F7eZPMWDoDk"
   },
   "source": [
    "## **Decision Tree**"
   ]
  },
  {
   "cell_type": "code",
   "execution_count": 49,
   "metadata": {
    "id": "arQLV9Ad_KIz"
   },
   "outputs": [],
   "source": [
    "from sklearn.tree import DecisionTreeClassifier\n",
    "\n",
    "dtc = DecisionTreeClassifier(random_state=42, max_depth=7)\n",
    "dtc = dtc.fit(X_train, y_train)\n",
    "y_pred_dtc = dtc.predict(X_test)"
   ]
  },
  {
   "cell_type": "code",
   "execution_count": 50,
   "metadata": {
    "colab": {
     "base_uri": "https://localhost:8080/"
    },
    "id": "qfhbeu6d_KLO",
    "outputId": "1e566565-8a10-4677-b374-3fd3d2b6cbde"
   },
   "outputs": [
    {
     "data": {
      "text/plain": [
       "0.9393346379647749"
      ]
     },
     "execution_count": 50,
     "metadata": {},
     "output_type": "execute_result"
    }
   ],
   "source": [
    "from sklearn.metrics import *\n",
    "\n",
    "dtc_acc = accuracy_score(y_test, y_pred_dtc)\n",
    "dtc_acc"
   ]
  },
  {
   "cell_type": "code",
   "execution_count": 51,
   "metadata": {
    "colab": {
     "base_uri": "https://localhost:8080/"
    },
    "id": "2y4gSyOZ_KOO",
    "outputId": "2a90a548-8375-4141-c984-9c83f994d3d5"
   },
   "outputs": [
    {
     "name": "stdout",
     "output_type": "stream",
     "text": [
      "              precision    recall  f1-score   support\n",
      "\n",
      "           0       0.95      0.99      0.97       972\n",
      "           1       0.07      0.02      0.03        50\n",
      "\n",
      "    accuracy                           0.94      1022\n",
      "   macro avg       0.51      0.50      0.50      1022\n",
      "weighted avg       0.91      0.94      0.92      1022\n",
      "\n"
     ]
    }
   ],
   "source": [
    "print(classification_report(y_test, y_pred_dtc))"
   ]
  },
  {
   "cell_type": "code",
   "execution_count": 52,
   "metadata": {
    "colab": {
     "base_uri": "https://localhost:8080/"
    },
    "id": "N61yo4R8EZTQ",
    "outputId": "85f7418b-ad0b-4c6f-91b2-154b8322c638"
   },
   "outputs": [
    {
     "name": "stdout",
     "output_type": "stream",
     "text": [
      "[[959  13]\n",
      " [ 49   1]]\n"
     ]
    }
   ],
   "source": [
    "print(confusion_matrix(y_test, y_pred_dtc))"
   ]
  },
  {
   "cell_type": "code",
   "execution_count": 53,
   "metadata": {
    "colab": {
     "base_uri": "https://localhost:8080/"
    },
    "id": "FbdVCEnEEZWI",
    "outputId": "9b250867-cdb5-4d0d-ba28-f85eb0723079"
   },
   "outputs": [
    {
     "name": "stdout",
     "output_type": "stream",
     "text": [
      "F1-Score:  0.03125\n"
     ]
    }
   ],
   "source": [
    "f1_dtc = f1_score(y_test, y_pred_dtc)\n",
    "print(\"F1-Score: \", f1_dtc)"
   ]
  },
  {
   "cell_type": "markdown",
   "metadata": {
    "id": "l_JkyxN_EgWM"
   },
   "source": [
    "### **Random Forest**"
   ]
  },
  {
   "cell_type": "code",
   "execution_count": 54,
   "metadata": {
    "id": "glRFha1DEZZZ"
   },
   "outputs": [],
   "source": [
    "from sklearn.ensemble import RandomForestClassifier\n",
    "rfc = RandomForestClassifier(n_estimators=100, random_state=42)\n",
    "rfc = rfc.fit(X_train, y_train)\n",
    "y_pred_rfc = rfc.predict(X_test)\n",
    "f1_rfc = f1_score(y_test, y_pred_rfc)"
   ]
  },
  {
   "cell_type": "code",
   "execution_count": 55,
   "metadata": {
    "colab": {
     "base_uri": "https://localhost:8080/"
    },
    "id": "2pZ92YLPEZcA",
    "outputId": "d5cf89a0-0c51-4124-ef80-cb60c10298f2"
   },
   "outputs": [
    {
     "name": "stdout",
     "output_type": "stream",
     "text": [
      "F1-Score:  0.0\n",
      "Accuracy:  0.9481409001956947\n"
     ]
    }
   ],
   "source": [
    "print(\"F1-Score: \", f1_rfc)\n",
    "print(\"Accuracy: \", accuracy_score(y_test, y_pred_rfc))"
   ]
  },
  {
   "cell_type": "code",
   "execution_count": 23,
   "metadata": {
    "colab": {
     "base_uri": "https://localhost:8080/"
    },
    "id": "dgGg9rO-EZd_",
    "outputId": "a0efb84e-4e33-46aa-f4fd-d59f564b9a16"
   },
   "outputs": [
    {
     "name": "stdout",
     "output_type": "stream",
     "text": [
      "              precision    recall  f1-score   support\n",
      "\n",
      "           0       0.95      1.00      0.97       972\n",
      "           1       0.00      0.00      0.00        50\n",
      "\n",
      "    accuracy                           0.95      1022\n",
      "   macro avg       0.48      0.50      0.49      1022\n",
      "weighted avg       0.90      0.95      0.93      1022\n",
      "\n"
     ]
    }
   ],
   "source": [
    "print(classification_report(y_test, y_pred_rfc))"
   ]
  },
  {
   "cell_type": "code",
   "execution_count": 24,
   "metadata": {
    "colab": {
     "base_uri": "https://localhost:8080/"
    },
    "id": "eFmz7w1oEZgR",
    "outputId": "61b65ab4-d3af-4a7f-e6f8-c931e9a1009c"
   },
   "outputs": [
    {
     "name": "stdout",
     "output_type": "stream",
     "text": [
      "[[971   1]\n",
      " [ 50   0]]\n"
     ]
    }
   ],
   "source": [
    "print(confusion_matrix(y_test, y_pred_rfc))"
   ]
  },
  {
   "cell_type": "markdown",
   "metadata": {
    "id": "UBrLR_yZH611"
   },
   "source": [
    "## **XGBoost**"
   ]
  },
  {
   "cell_type": "code",
   "execution_count": 25,
   "metadata": {
    "id": "1VGV6ETmEZj4"
   },
   "outputs": [],
   "source": [
    "from xgboost import XGBClassifier\n",
    "\n",
    "xg = XGBClassifier()\n",
    "xg = xg.fit(X_train, y_train)\n",
    "y_pred_xg = xg.predict(X_test)\n",
    "f1_xg = f1_score(y_test, y_pred_xg)"
   ]
  },
  {
   "cell_type": "code",
   "execution_count": 26,
   "metadata": {
    "colab": {
     "base_uri": "https://localhost:8080/"
    },
    "id": "peNZE0ZlIF4-",
    "outputId": "c67f0a0f-3794-4553-8c17-ba2db99d844b"
   },
   "outputs": [
    {
     "name": "stdout",
     "output_type": "stream",
     "text": [
      "Accuracy Score:  0.9481409001956947\n",
      "F1- Score     :  0.15873015873015872\n"
     ]
    }
   ],
   "source": [
    "print(\"Accuracy Score: \", accuracy_score(y_test, y_pred_xg))\n",
    "print(\"F1- Score     : \", f1_xg)"
   ]
  },
  {
   "cell_type": "code",
   "execution_count": 27,
   "metadata": {
    "colab": {
     "base_uri": "https://localhost:8080/"
    },
    "id": "-aqXRwszIF7N",
    "outputId": "363786f9-0a8e-4119-b498-32b0cab61196"
   },
   "outputs": [
    {
     "name": "stdout",
     "output_type": "stream",
     "text": [
      "[[964   8]\n",
      " [ 45   5]]\n"
     ]
    }
   ],
   "source": [
    "print(confusion_matrix(y_test, y_pred_xg))"
   ]
  },
  {
   "cell_type": "code",
   "execution_count": 28,
   "metadata": {
    "colab": {
     "base_uri": "https://localhost:8080/"
    },
    "id": "WdHz5ErEIF9w",
    "outputId": "5507f15c-8e97-4bc4-b9a8-91dfa8c5a131"
   },
   "outputs": [
    {
     "name": "stdout",
     "output_type": "stream",
     "text": [
      "              precision    recall  f1-score   support\n",
      "\n",
      "           0       0.96      0.99      0.97       972\n",
      "           1       0.38      0.10      0.16        50\n",
      "\n",
      "    accuracy                           0.95      1022\n",
      "   macro avg       0.67      0.55      0.57      1022\n",
      "weighted avg       0.93      0.95      0.93      1022\n",
      "\n"
     ]
    }
   ],
   "source": [
    "print(classification_report(y_test, y_pred_xg))"
   ]
  },
  {
   "cell_type": "code",
   "execution_count": 29,
   "metadata": {
    "colab": {
     "base_uri": "https://localhost:8080/",
     "height": 441
    },
    "id": "WBKcCFG7IGAW",
    "outputId": "42ec87cd-39b2-4b62-c595-6daec028a891"
   },
   "outputs": [
    {
     "data": {
      "image/png": "[encoded data removed]",
      "text/plain": [
       "<Figure size 720x360 with 1 Axes>"
      ]
     },
     "metadata": {
      "needs_background": "light"
     },
     "output_type": "display_data"
    }
   ],
   "source": [
    "data = {\n",
    "    'Decision Tree':accuracy_score(y_test, y_pred_dtc),\n",
    "    'Random Forest':accuracy_score(y_test, y_pred_rfc),\n",
    "    'XGBoost':accuracy_score(y_test, y_pred_xg),\n",
    "}\n",
    "activation = list(data.keys())\n",
    "accuracy = list(data.values())\n",
    "\n",
    "fig = plt.figure(figsize=(10,5))\n",
    "plt.barh(activation, accuracy)\n",
    "plt.xlabel(\"Models\")\n",
    "plt.ylabel(\"Accuracy of the Models\")\n",
    "plt.title(\"Comparitive performance study of Different Models\")\n",
    "for i, v in enumerate(accuracy):\n",
    "  plt.text(v,i, str(v))\n",
    "plt.show()"
   ]
  },
  {
   "cell_type": "markdown",
   "metadata": {
    "id": "yAqrc3KNJQ_O"
   },
   "source": [
    "## **ROC Curve**"
   ]
  },
  {
   "cell_type": "code",
   "execution_count": 30,
   "metadata": {
    "id": "dndoUZo0t8AE"
   },
   "outputs": [],
   "source": [
    "y_score1 = dtc.predict_proba(X_test)[:,1]\n",
    "y_score2 = rfc.predict_proba(X_test)[:,1]\n",
    "y_score3 = xg.predict_proba(X_test)[:,1]"
   ]
  },
  {
   "cell_type": "code",
   "execution_count": 31,
   "metadata": {
    "id": "stA-u7IzIGC-"
   },
   "outputs": [],
   "source": [
    "from sklearn.metrics import roc_curve, roc_auc_score\n",
    "false_positive_rate1, true_positive_rate1, threshold1 = roc_curve(y_test, y_score1)\n",
    "false_positive_rate2, true_positive_rate2, threshold2 = roc_curve(y_test, y_score2)\n",
    "false_positive_rate3, true_positive_rate3, threshold3 = roc_curve(y_test, y_score3)"
   ]
  },
  {
   "cell_type": "code",
   "execution_count": 32,
   "metadata": {
    "colab": {
     "base_uri": "https://localhost:8080/"
    },
    "id": "QdDmFVRnNjSB",
    "outputId": "85e9f7be-4a8e-4cd5-fb34-c31e0e4792ee"
   },
   "outputs": [
    {
     "name": "stdout",
     "output_type": "stream",
     "text": [
      "roc_auc_score for DecisionTree :  0.7932921810699588\n",
      "roc_auc_score for Random Forest:  0.7861008230452674\n",
      "roc_auc_score for XGBoost      :  0.8058230452674897\n"
     ]
    }
   ],
   "source": [
    "print('roc_auc_score for DecisionTree : ', roc_auc_score(y_test, y_score1))\n",
    "print('roc_auc_score for Random Forest: ', roc_auc_score(y_test, y_score2))\n",
    "print('roc_auc_score for XGBoost      : ', roc_auc_score(y_test, y_score3))"
   ]
  },
  {
   "cell_type": "code",
   "execution_count": 33,
   "metadata": {
    "colab": {
     "base_uri": "https://localhost:8080/",
     "height": 872
    },
    "id": "F4RtoMFxNjUb",
    "outputId": "88491622-5039-4eea-da00-746aa75005d0"
   },
   "outputs": [
    {
     "data": {
      "image/png": "[encoded data removed]",
      "text/plain": [
       "<Figure size 720x720 with 1 Axes>"
      ]
     },
     "metadata": {
      "needs_background": "light"
     },
     "output_type": "display_data"
    }
   ],
   "source": [
    "plt.subplots(1, figsize=(10,10))\n",
    "plt.title('Receiver Operating Characteristic - DecisionTree')\n",
    "plt.plot(false_positive_rate1, true_positive_rate1)\n",
    "plt.plot([0, 1], ls=\"--\")\n",
    "plt.plot([0, 0], [1, 0] , c=\".7\"), plt.plot([1, 1] , c=\".7\")\n",
    "plt.ylabel('True Positive Rate')\n",
    "plt.xlabel('False Positive Rate')\n",
    "plt.show()\n",
    "\n"
   ]
  },
  {
   "cell_type": "code",
   "execution_count": 34,
   "metadata": {
    "colab": {
     "base_uri": "https://localhost:8080/",
     "height": 872
    },
    "id": "uSQ-oyQl8QtU",
    "outputId": "ae2f7fd6-32aa-4327-891a-f315f49b5553"
   },
   "outputs": [
    {
     "data": {
      "image/png": "[encoded data removed]",
      "text/plain": [
       "<Figure size 720x720 with 1 Axes>"
      ]
     },
     "metadata": {
      "needs_background": "light"
     },
     "output_type": "display_data"
    }
   ],
   "source": [
    "plt.subplots(1, figsize=(10,10))\n",
    "plt.title('Receiver Operating Characteristic - Random Forest')\n",
    "plt.plot(false_positive_rate2, true_positive_rate2)\n",
    "plt.plot([0, 1], ls=\"--\")\n",
    "plt.plot([0, 0], [1, 0] , c=\".7\"), plt.plot([1, 1] , c=\".7\")\n",
    "plt.ylabel('True Positive Rate')\n",
    "plt.xlabel('False Positive Rate')\n",
    "plt.show()\n"
   ]
  },
  {
   "cell_type": "code",
   "execution_count": 35,
   "metadata": {
    "colab": {
     "base_uri": "https://localhost:8080/",
     "height": 872
    },
    "id": "bMxGnbk48Sqj",
    "outputId": "d8b95f78-502a-4a6d-8441-7419489bcd35"
   },
   "outputs": [
    {
     "data": {
      "image/png": "[encoded data removed]",
      "text/plain": [
       "<Figure size 720x720 with 1 Axes>"
      ]
     },
     "metadata": {
      "needs_background": "light"
     },
     "output_type": "display_data"
    }
   ],
   "source": [
    "plt.subplots(1, figsize=(10,10))\n",
    "plt.title('Receiver Operating Characteristic - XGBoost')\n",
    "plt.plot(false_positive_rate3, true_positive_rate3)\n",
    "plt.plot([0, 1], ls=\"--\")\n",
    "plt.plot([0, 0], [1, 0] , c=\".7\"), plt.plot([1, 1] , c=\".7\")\n",
    "plt.ylabel('True Positive Rate')\n",
    "plt.xlabel('False Positive Rate')\n",
    "plt.show()"
   ]
  },
  {
   "cell_type": "markdown",
   "metadata": {
    "id": "IAkKb7snZ8eZ"
   },
   "source": [
    "## **SGD Optimizer**"
   ]
  },
  {
   "cell_type": "markdown",
   "metadata": {
    "id": "ok57VZyBOL1q"
   },
   "source": [
    "### **ANN-ReLu**"
   ]
  },
  {
   "cell_type": "code",
   "execution_count": 36,
   "metadata": {
    "id": "zbCFDjI1NjXW"
   },
   "outputs": [],
   "source": [
    "import tensorflow as tf \n",
    "from tensorflow import keras\n",
    "from tensorflow.keras.models import Sequential\n",
    "from tensorflow.keras.layers import Activation, Dense, Flatten, Conv2D, MaxPool2D, Dropout,Input\n",
    "from tensorflow.keras.models import Model\n",
    "from tensorflow.keras.optimizers import SGD\n",
    "from tensorflow.keras.metrics import categorical_crossentropy\n",
    "from tensorflow.keras.preprocessing.image import ImageDataGenerator\n",
    "from sklearn.metrics import confusion_matrix"
   ]
  },
  {
   "cell_type": "code",
   "execution_count": 57,
   "metadata": {
    "id": "nylZ8gISNjY5"
   },
   "outputs": [],
   "source": [
    "model = Sequential()\n",
    "model.add(Dense(units=256, input_shape=(x.shape[1], ), activation='relu'))\n",
    "model.add(Dense(units=128, activation='relu'))\n",
    "model.add(Dropout(0.3))\n",
    "model.add(Dense(units=64, activation='relu'))\n",
    "model.add(Dense(units=32, activation='relu'))\n",
    "model.add(Dropout(0.3))\n",
    "model.add(Dense(units=16, activation='relu'))\n",
    "model.add(Dense(units=1, activation='sigmoid'))"
   ]
  },
  {
   "cell_type": "code",
   "execution_count": 59,
   "metadata": {
    "colab": {
     "base_uri": "https://localhost:8080/"
    },
    "id": "36ARATkENjaw",
    "outputId": "d48901e9-49db-4dbc-a23b-c6703832c335"
   },
   "outputs": [
    {
     "name": "stdout",
     "output_type": "stream",
     "text": [
      "Model: \"sequential_1\"\n",
      "_________________________________________________________________\n",
      " Layer (type)                Output Shape              Param #   \n",
      "=================================================================\n",
      " dense (Dense)               (None, 256)               2816      \n",
      "                                                                 \n",
      " dense_1 (Dense)             (None, 128)               32896     \n",
      "                                                                 \n",
      " dropout (Dropout)           (None, 128)               0         \n",
      "                                                                 \n",
      " dense_2 (Dense)             (None, 64)                8256      \n",
      "                                                                 \n",
      " dense_3 (Dense)             (None, 32)                2080      \n",
      "                                                                 \n",
      " dropout_1 (Dropout)         (None, 32)                0         \n",
      "                                                                 \n",
      " dense_4 (Dense)             (None, 16)                528       \n",
      "                                                                 \n",
      " dense_5 (Dense)             (None, 1)                 17        \n",
      "                                                                 \n",
      "=================================================================\n",
      "Total params: 46,593\n",
      "Trainable params: 46,593\n",
      "Non-trainable params: 0\n",
      "_________________________________________________________________\n"
     ]
    }
   ],
   "source": [
    "model.summary()"
   ]
  },
  {
   "cell_type": "code",
   "execution_count": 61,
   "metadata": {
    "colab": {
     "base_uri": "https://localhost:8080/"
    },
    "id": "eX564uo2Njcu",
    "outputId": "213aced9-af98-4db1-e829-da2eaff6a268"
   },
   "outputs": [],
   "source": [
    "model.compile(optimizer=\"adam\",loss='binary_crossentropy', metrics=['accuracy'])"
   ]
  },
  {
   "cell_type": "code",
   "execution_count": 62,
   "metadata": {
    "colab": {
     "base_uri": "https://localhost:8080/"
    },
    "id": "PcjqMCnBNjge",
    "outputId": "31284998-f322-42ab-e526-37e68a0cb331"
   },
   "outputs": [
    {
     "name": "stdout",
     "output_type": "stream",
     "text": [
      "Epoch 1/30\n",
      "103/103 [==============================] - 2s 7ms/step - loss: 0.3824 - accuracy: 0.9294 - val_loss: 0.2578 - val_accuracy: 0.9425\n",
      "Epoch 2/30\n",
      "103/103 [==============================] - 0s 4ms/step - loss: 0.2327 - accuracy: 0.9526 - val_loss: 0.2235 - val_accuracy: 0.9425\n",
      "Epoch 3/30\n",
      "103/103 [==============================] - 0s 5ms/step - loss: 0.2217 - accuracy: 0.9532 - val_loss: 0.2024 - val_accuracy: 0.9425\n",
      "Epoch 4/30\n",
      "103/103 [==============================] - 1s 5ms/step - loss: 0.2029 - accuracy: 0.9532 - val_loss: 0.1975 - val_accuracy: 0.9425\n",
      "Epoch 5/30\n",
      "103/103 [==============================] - 1s 5ms/step - loss: 0.1958 - accuracy: 0.9535 - val_loss: 0.2219 - val_accuracy: 0.9425\n",
      "Epoch 6/30\n",
      "103/103 [==============================] - 1s 5ms/step - loss: 0.1936 - accuracy: 0.9532 - val_loss: 0.1966 - val_accuracy: 0.9425\n",
      "Epoch 7/30\n",
      "103/103 [==============================] - 0s 5ms/step - loss: 0.1880 - accuracy: 0.9535 - val_loss: 0.1975 - val_accuracy: 0.9425\n",
      "Epoch 8/30\n",
      "103/103 [==============================] - 0s 4ms/step - loss: 0.1856 - accuracy: 0.9535 - val_loss: 0.2000 - val_accuracy: 0.9425\n",
      "Epoch 9/30\n",
      "103/103 [==============================] - 0s 4ms/step - loss: 0.1737 - accuracy: 0.9535 - val_loss: 0.2104 - val_accuracy: 0.9425\n",
      "Epoch 10/30\n",
      "103/103 [==============================] - 0s 5ms/step - loss: 0.1843 - accuracy: 0.9535 - val_loss: 0.1967 - val_accuracy: 0.9425\n",
      "Epoch 11/30\n",
      "103/103 [==============================] - 0s 5ms/step - loss: 0.1700 - accuracy: 0.9535 - val_loss: 0.1973 - val_accuracy: 0.9425\n",
      "Epoch 12/30\n",
      "103/103 [==============================] - 0s 4ms/step - loss: 0.1732 - accuracy: 0.9535 - val_loss: 0.1908 - val_accuracy: 0.9425\n",
      "Epoch 13/30\n",
      "103/103 [==============================] - 0s 4ms/step - loss: 0.1681 - accuracy: 0.9535 - val_loss: 0.1923 - val_accuracy: 0.9425\n",
      "Epoch 14/30\n",
      "103/103 [==============================] - 0s 4ms/step - loss: 0.1718 - accuracy: 0.9535 - val_loss: 0.2009 - val_accuracy: 0.9425\n",
      "Epoch 15/30\n",
      "103/103 [==============================] - 0s 4ms/step - loss: 0.1700 - accuracy: 0.9535 - val_loss: 0.1931 - val_accuracy: 0.9425\n",
      "Epoch 16/30\n",
      "103/103 [==============================] - 0s 5ms/step - loss: 0.1685 - accuracy: 0.9535 - val_loss: 0.1935 - val_accuracy: 0.9425\n",
      "Epoch 17/30\n",
      "103/103 [==============================] - 0s 4ms/step - loss: 0.1700 - accuracy: 0.9535 - val_loss: 0.1907 - val_accuracy: 0.9425\n",
      "Epoch 18/30\n",
      "103/103 [==============================] - 0s 4ms/step - loss: 0.1663 - accuracy: 0.9535 - val_loss: 0.1934 - val_accuracy: 0.9425\n",
      "Epoch 19/30\n",
      "103/103 [==============================] - 0s 4ms/step - loss: 0.1718 - accuracy: 0.9535 - val_loss: 0.1914 - val_accuracy: 0.9425\n",
      "Epoch 20/30\n",
      "103/103 [==============================] - 0s 4ms/step - loss: 0.1757 - accuracy: 0.9535 - val_loss: 0.1996 - val_accuracy: 0.9425\n",
      "Epoch 21/30\n",
      "103/103 [==============================] - 0s 4ms/step - loss: 0.1722 - accuracy: 0.9535 - val_loss: 0.1930 - val_accuracy: 0.9425\n",
      "Epoch 22/30\n",
      "103/103 [==============================] - 0s 4ms/step - loss: 0.1700 - accuracy: 0.9535 - val_loss: 0.1952 - val_accuracy: 0.9425\n",
      "Epoch 23/30\n",
      "103/103 [==============================] - 0s 5ms/step - loss: 0.1661 - accuracy: 0.9535 - val_loss: 0.1935 - val_accuracy: 0.9425\n",
      "Epoch 24/30\n",
      "103/103 [==============================] - 0s 4ms/step - loss: 0.1695 - accuracy: 0.9535 - val_loss: 0.1925 - val_accuracy: 0.9425\n",
      "Epoch 25/30\n",
      "103/103 [==============================] - 0s 5ms/step - loss: 0.1665 - accuracy: 0.9535 - val_loss: 0.1908 - val_accuracy: 0.9425\n",
      "Epoch 26/30\n",
      "103/103 [==============================] - 0s 4ms/step - loss: 0.1707 - accuracy: 0.9535 - val_loss: 0.1904 - val_accuracy: 0.9425\n",
      "Epoch 27/30\n",
      "103/103 [==============================] - 0s 5ms/step - loss: 0.1665 - accuracy: 0.9535 - val_loss: 0.1923 - val_accuracy: 0.9425\n",
      "Epoch 28/30\n",
      "103/103 [==============================] - 0s 4ms/step - loss: 0.1667 - accuracy: 0.9535 - val_loss: 0.1886 - val_accuracy: 0.9425\n",
      "Epoch 29/30\n",
      "103/103 [==============================] - 0s 5ms/step - loss: 0.1650 - accuracy: 0.9535 - val_loss: 0.1887 - val_accuracy: 0.9425\n",
      "Epoch 30/30\n",
      "103/103 [==============================] - 0s 5ms/step - loss: 0.1632 - accuracy: 0.9535 - val_loss: 0.1885 - val_accuracy: 0.9425\n"
     ]
    }
   ],
   "source": [
    "hist = model.fit(X_train, y_train, epochs=30, verbose=1, batch_size=32, validation_split=0.2, callbacks=[early_stop])"
   ]
  },
  {
   "cell_type": "code",
   "execution_count": 63,
   "metadata": {
    "colab": {
     "base_uri": "https://localhost:8080/"
    },
    "id": "sa3o8MjIVMNs",
    "outputId": "16731e65-502b-450f-b9ad-11b6af7978c9"
   },
   "outputs": [
    {
     "name": "stdout",
     "output_type": "stream",
     "text": [
      "32/32 [==============================] - 0s 2ms/step - loss: 0.1764 - accuracy: 0.9511\n",
      "Test accuracy is:  0.951076328754425\n",
      "Test loss is    :  0.1763533502817154\n"
     ]
    }
   ],
   "source": [
    "loss, accuracy = model.evaluate(X_test, y_test)\n",
    "print('Test accuracy is: ', accuracy)\n",
    "print(\"Test loss is    : \", loss)"
   ]
  },
  {
   "cell_type": "code",
   "execution_count": 64,
   "metadata": {
    "colab": {
     "base_uri": "https://localhost:8080/"
    },
    "id": "fKxO65naVMQe",
    "outputId": "3df59689-88f3-4a14-af6d-f2768122484f"
   },
   "outputs": [
    {
     "name": "stdout",
     "output_type": "stream",
     "text": [
      "32/32 [==============================] - 0s 2ms/step\n",
      "[[972   0]\n",
      " [ 50   0]]\n"
     ]
    }
   ],
   "source": [
    "from sklearn.metrics import classification_report, confusion_matrix, f1_score\n",
    "pred = model.predict(X_test)\n",
    "pred = pred.argmax(axis=1)\n",
    "cm = confusion_matrix(y_test, pred)\n",
    "print(cm)"
   ]
  },
  {
   "cell_type": "code",
   "execution_count": 65,
   "metadata": {
    "colab": {
     "base_uri": "https://localhost:8080/"
    },
    "id": "B6Vudk_7VMSg",
    "outputId": "4bf2e555-ce84-4055-a98d-2f3cafa652f5"
   },
   "outputs": [
    {
     "name": "stdout",
     "output_type": "stream",
     "text": [
      "F1 Score      :  0.48746238716148443\n",
      "Accuracy Score:  0.9510763209393346\n"
     ]
    }
   ],
   "source": [
    "from sklearn.metrics import accuracy_score\n",
    "accuracy_relu = accuracy_score(y_test, pred)\n",
    "print(\"F1 Score      : \", f1_score(y_test, pred, average='macro'))\n",
    "print('Accuracy Score: ', accuracy_relu)"
   ]
  },
  {
   "cell_type": "code",
   "execution_count": 66,
   "metadata": {
    "colab": {
     "base_uri": "https://localhost:8080/",
     "height": 523
    },
    "id": "wypXVWZBVMUa",
    "outputId": "8ae3fafa-469b-46e5-fad4-3f5de0477b44"
   },
   "outputs": [
    {
     "data": {
      "image/png": "[encoded data removed]",
      "text/plain": [
       "<Figure size 432x288 with 1 Axes>"
      ]
     },
     "metadata": {
      "needs_background": "light"
     },
     "output_type": "display_data"
    },
    {
     "data": {
      "image/png": "[encoded data removed]",
      "text/plain": [
       "<Figure size 432x288 with 1 Axes>"
      ]
     },
     "metadata": {
      "needs_background": "light"
     },
     "output_type": "display_data"
    }
   ],
   "source": [
    "plt.subplot(211)\n",
    "plt.plot(hist.history['accuracy'])\n",
    "plt.plot(hist.history['val_accuracy'])\n",
    "plt.title('accuracy vs val_accuracy')\n",
    "plt.xlabel('epochs')\n",
    "plt.ylabel('accuracy')\n",
    "plt.legend(['Train', 'Validation'])\n",
    "plt.show()\n",
    "\n",
    "plt.subplot(212)\n",
    "plt.plot(hist.history['loss'])\n",
    "plt.plot(hist.history['val_loss'])\n",
    "plt.title('loss vs val_loss')\n",
    "plt.xlabel('epochs')\n",
    "plt.ylabel('loss')\n",
    "plt.legend(['Train', 'Validation'])\n",
    "plt.show()"
   ]
  },
  {
   "cell_type": "code",
   "execution_count": null,
   "metadata": {
    "id": "vAuYpmJgC14f"
   },
   "outputs": [],
   "source": []
  }
 ],
 "metadata": {
  "colab": {
   "provenance": []
  },
  "kernelspec": {
   "display_name": "Python 3",
   "language": "python",
   "name": "python3"
  },
  "language_info": {
   "codemirror_mode": {
    "name": "ipython",
    "version": 3
   },
   "file_extension": ".py",
   "mimetype": "text/x-python",
   "name": "python",
   "nbconvert_exporter": "python",
   "pygments_lexer": "ipython3",
   "version": "3.8.8"
  }
 },
 "nbformat": 4,
 "nbformat_minor": 1
}
